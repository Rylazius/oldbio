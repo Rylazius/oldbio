{
  "nbformat": 4,
  "nbformat_minor": 0,
  "metadata": {
    "colab": {
      "provenance": [],
      "authorship_tag": "ABX9TyOJOPVWO+rqA94dO0VCufuP",
      "include_colab_link": true
    },
    "kernelspec": {
      "name": "python3",
      "display_name": "Python 3"
    },
    "language_info": {
      "name": "python"
    }
  },
  "cells": [
    {
      "cell_type": "markdown",
      "metadata": {
        "id": "view-in-github",
        "colab_type": "text"
      },
      "source": [
        "<a href=\"https://colab.research.google.com/github/Rylazius/rylazius.github.io/blob/main/3fmcLimitBypasser.ipynb\" target=\"_parent\"><img src=\"https://colab.research.google.com/assets/colab-badge.svg\" alt=\"Open In Colab\"/></a>"
      ]
    },
    {
      "cell_type": "code",
      "execution_count": 1,
      "metadata": {
        "colab": {
          "base_uri": "https://localhost:8080/"
        },
        "id": "KTxxk4SVjKGD",
        "outputId": "c89df354-afd8-4c47-ec90-12e4a02b4e7b"
      },
      "outputs": [
        {
          "output_type": "stream",
          "name": "stdout",
          "text": [
            "Requirement already satisfied: requests in /usr/local/lib/python3.10/dist-packages (2.31.0)\n",
            "Requirement already satisfied: charset-normalizer<4,>=2 in /usr/local/lib/python3.10/dist-packages (from requests) (3.3.2)\n",
            "Requirement already satisfied: idna<4,>=2.5 in /usr/local/lib/python3.10/dist-packages (from requests) (3.6)\n",
            "Requirement already satisfied: urllib3<3,>=1.21.1 in /usr/local/lib/python3.10/dist-packages (from requests) (2.0.7)\n",
            "Requirement already satisfied: certifi>=2017.4.17 in /usr/local/lib/python3.10/dist-packages (from requests) (2023.11.17)\n",
            "Collecting bs4\n",
            "  Downloading bs4-0.0.1.tar.gz (1.1 kB)\n",
            "  Preparing metadata (setup.py) ... \u001b[?25l\u001b[?25hdone\n",
            "Requirement already satisfied: beautifulsoup4 in /usr/local/lib/python3.10/dist-packages (from bs4) (4.11.2)\n",
            "Requirement already satisfied: soupsieve>1.2 in /usr/local/lib/python3.10/dist-packages (from beautifulsoup4->bs4) (2.5)\n",
            "Building wheels for collected packages: bs4\n",
            "  Building wheel for bs4 (setup.py) ... \u001b[?25l\u001b[?25hdone\n",
            "  Created wheel for bs4: filename=bs4-0.0.1-py3-none-any.whl size=1256 sha256=5eb91c86ed07f0c162066ef6714e156b79977683d5059a98be7ab4b2ff7f0c47\n",
            "  Stored in directory: /root/.cache/pip/wheels/25/42/45/b773edc52acb16cd2db4cf1a0b47117e2f69bb4eb300ed0e70\n",
            "Successfully built bs4\n",
            "Installing collected packages: bs4\n",
            "Successfully installed bs4-0.0.1\n"
          ]
        }
      ],
      "source": [
        "!pip install requests\n",
        "!pip install bs4"
      ]
    },
    {
      "cell_type": "code",
      "source": [
        "import requests\n",
        "from bs4 import BeautifulSoup\n",
        "import random\n",
        "import string\n",
        "\n",
        "def randomStr(length):\n",
        "    return ''.join(random.choice(string.ascii_letters) for i in range(length))\n",
        "\n",
        "response = requests.get(\"https://3fmc.com/register\")\n",
        "\n",
        "phpsessid = response.cookies.get('PHPSESSID')\n",
        "soup = BeautifulSoup(response.text, 'html.parser')\n",
        "csrfToken = soup.find('input', {'name': 'csrf-token'}).get('value')\n",
        "\n",
        "username = f'rl_{randomStr(5)}'\n",
        "email = f'{randomStr(7)}@gmail.com'\n",
        "\n",
        "cookies = {\"PHPSESSID\": phpsessid, \"lang\": \"en\"}\n",
        "postData = f\"username={username}&email={email}&password=12312312&passwordRe=12312312&csrf-token={csrfToken}&insertAccounts=\"\n",
        "headers = {\n",
        "    \"Accept\": \"text/html,application/xhtml+xml,application/xml;q=0.9,image/avif,image/webp,*/*;q=0.8\",\n",
        "    \"Connection\": \"keep-alive\",\n",
        "    \"Content-Type\": \"application/x-www-form-urlencoded\",\n",
        "    \"Referer\": \"https://3fmc.com/register\",\n",
        "    \"Host\": \"3fmc.com\",\n",
        "    \"Origin\": \"https://3fmc.com\",\n",
        "    \"User-Agent\": \"Mozilla/5.0 (Windows NT 10.0; Win64; x64; rv:122.0) Gecko/20100101 Firefox/122.0\"\n",
        "}\n",
        "\n",
        "r = requests.post(\"https://3fmc.com/register\", postData, headers=headers, cookies=cookies)\n",
        "soup2 = BeautifulSoup(r.text, 'html.parser')\n",
        "if soup2.find('title').text == \"3FMC - Profile\":\n",
        "  print(f\"Success! - {username}\")\n",
        "else:\n",
        "  print(\"Failed!\")"
      ],
      "metadata": {
        "colab": {
          "base_uri": "https://localhost:8080/"
        },
        "id": "zc9al0Q_jQsY",
        "outputId": "29bb9994-fc9d-42dd-a5fd-af64fecb0f34"
      },
      "execution_count": 8,
      "outputs": [
        {
          "output_type": "stream",
          "name": "stdout",
          "text": [
            "Success! - rl_YHeUS\n"
          ]
        }
      ]
    }
  ]
}